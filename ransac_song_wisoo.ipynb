{
 "cells": [
  {
   "cell_type": "markdown",
   "metadata": {},
   "source": [
    "# 9 | Independent Coding: Model-fitting with RANSAC\n",
    "**ES143 Computer Vision, Harvard University, Fall 2020**\n",
    "\n",
    "This is an independent coding task. In it you will learn to:\n",
    "* use RANSAC to robustly fit a line model in the presence of outliers\n",
    "\n",
    "This notebook requires image `dots_outliers.tif`, which is available on the course website.\n",
    "\n",
    "## Instructions:\n",
    "1. Run the notebook and then read Sections 1 and 2.\n",
    "2. Follow the instructions in Section 3.\n",
    "3. Submit `.ipynb` and `.html` versions of this notebook to [canvas](https://canvas.harvard.edu/courses/78234/assignments/420410). Submission filenames should be of the form `ransac_lastname_firstname.ipynb` and `ransac_lastname_firstname.html`."
   ]
  },
  {
   "cell_type": "code",
   "execution_count": 3,
   "metadata": {},
   "outputs": [],
   "source": [
    "# Import any required libraries here\n",
    "import cv2                # OpenCV\n",
    "import numpy as np        # numpy\n",
    "\n",
    "# Use this line to make plots static and non-interactive\n",
    "# (only need to call it once when importing matplotlib)\n",
    "%matplotlib inline\n",
    "\n",
    "import matplotlib.pyplot as plt\n",
    "\n",
    "import matplotlib.pyplot as plt\n",
    "# Modify this line to adjust the displayed plot size. You can also call\n",
    "# it with different parameters or use plt.figure(figsize=[H, W]) before specific plots.\n",
    "plt.rcParams['figure.figsize'] = [10, 10]"
   ]
  },
  {
   "cell_type": "markdown",
   "metadata": {},
   "source": [
    "### 1. Recall: Line fitting with total least squares\n",
    "\n",
    "The following cell defines clean versions of two functions that you've seen before.\n",
    "* `line = fitlineTLS(impts)`: Fits line ${\\bf l}=(a,b,c)$ to an $N\\times 2$ array `impts` of inhomogeneous points $(x,y)$\n",
    "* `plotimageline(h,w,l,ax)`: Visualizes line ${\\bf l}=(a,b,c)$ superimposed on an image with shape $h,w$ in figure axes `ax`"
   ]
  },
  {
   "cell_type": "code",
   "execution_count": 4,
   "metadata": {
    "scrolled": true
   },
   "outputs": [],
   "source": [
    "# Usage: plotimageline(h,w,l,ax)\n",
    "# Input:\n",
    "#   h,w -- height and width of image (in pixels)\n",
    "#   l  -- 3-vector of line coordinates (a,b,c) ax+by+c = 0\n",
    "#   ax -- plt.axes object \n",
    "def plotimageline(h,w,line,ax):\n",
    "\n",
    "    x,y=np.meshgrid(np.linspace(0,w,w*2),np.linspace(0,h,h*2))\n",
    "    ax.contour(x, y, line[0]*x+line[1]*y+line[2], [0], colors='r')\n",
    "\n",
    "    return 1\n",
    "\n",
    "# Usage: line = fitlineTLS(impts)\n",
    "# Input:\n",
    "#   impts -- Nx2 array of inhomogeneous image points (x,y) \n",
    "# Output:\n",
    "#   line -- 3-vector of line coordinates (a,b,c)\n",
    "def fitlineTLS(X):\n",
    "\n",
    "    # normalize points by subracting mean\n",
    "    X_norm = X - np.mean(X,axis=0)\n",
    "    \n",
    "    # best-fit line (a,b) via SVD (Szeliski Eq. A.44)\n",
    "    _,_,VT = np.linalg.svd(X_norm)\n",
    "\n",
    "    # undo normalization\n",
    "    l = np.append(VT[1,:],-np.dot(VT[1,:],np.mean(X,axis=0)))\n",
    "\n",
    "    return l"
   ]
  },
  {
   "cell_type": "markdown",
   "metadata": {},
   "source": [
    "## 2. Impact of outliers\n",
    "\n",
    "We test the above function using a toy image of points with many outliers. Notice how the least-squares fit is badly affected by the outliers."
   ]
  },
  {
   "cell_type": "code",
   "execution_count": 5,
   "metadata": {},
   "outputs": [
    {
     "data": {
      "text/plain": [
       "1"
      ]
     },
     "execution_count": 5,
     "metadata": {},
     "output_type": "execute_result"
    },
    {
     "data": {
      "image/png": "[encoded data removed]",
      "text/plain": [
       "<Figure size 1440x720 with 1 Axes>"
      ]
     },
     "metadata": {
      "needs_background": "light"
     },
     "output_type": "display_data"
    }
   ],
   "source": [
    "# Load image and convert to grayscale\n",
    "img = cv2.imread('dots_outliers.tif')\n",
    "img = cv2.cvtColor(img, cv2.COLOR_BGR2GRAY)\n",
    "\n",
    "# pixel coordinates of detected points\n",
    "y, x = np.nonzero(img)  # nonzero() returns row indices followed by column indices\n",
    "\n",
    "# fit line\n",
    "l=fitlineTLS(np.vstack((x, y)).T)\n",
    "\n",
    "# plot image and line\n",
    "fig, ax = plt.subplots(figsize=(20,10))\n",
    "ax.imshow(img,cmap=\"gray\")\n",
    "ax.axis('off')\n",
    "\n",
    "plt.plot(x, y, 'y+')\n",
    "\n",
    "h,w=img.shape\n",
    "plotimageline(h,w,l,ax)"
   ]
  },
  {
   "cell_type": "markdown",
   "metadata": {},
   "source": [
    "## 3. Work Here: Robust fitting with RANSAC\n",
    "\n",
    "The next cell provides skeleton code for robust fitting with RANSAC. The basic idea is to fit many lines to random pairs of points and then keep the best one. The cell is missing a few lines of code that compute the distances `dist` from all points to each sampled line. (Actually, there is placeholder code there that incorrectly sets all of the distances to a constant value that is less than the inlier threshold.)\n",
    "\n",
    "### Instructions:\n",
    "1. Visit [this jamboard](https://jamboard.google.com/d/1Nmb-MNNQ388LsrKmutM3j5fzFT0yt_CeiLePcecMz-k/viewer?f=0) and post at least one question about an element of the following code that you want to understand better. We will discuss these questions and answers as a group before moving on.\n",
    "2. Write code that replaces the line under `# YOUR CODE HERE #`. Your code should compute an $N$-vector of perpendicular distances between each of the $N$ datapoints and the current iteration's line model.\n",
    "3. Post a snapshot of your successful fit to [padlet](https://padlet.com/zickler/ransac_lines), with your name in the title and a description of the parameter values that you used.\n",
    "\n",
    "_Hint:_ The perpendicular distance from a 2D point $(x,y)$ to a line $(a,b,c)$ is \n",
    "\n",
    "\\begin{equation}\n",
    "\\frac{|ax+by+c|}{\\sqrt{a^2+b^2}}\n",
    "\\end{equation}"
   ]
  },
  {
   "cell_type": "code",
   "execution_count": 14,
   "metadata": {},
   "outputs": [
    {
     "name": "stdout",
     "output_type": "stream",
     "text": [
      "[291 275 135 135 167  59  47 207  47  55 279 367 299 263 323 307 287 299\n",
      " 303 315 323 199 211 219 239 307 363 159 199 243 283 307 311 139 175 179\n",
      " 203 215 231 259 307  67  79 127 139 195 207 227 271 299 315 155 159 175\n",
      " 179 199 215 227  63  71  91 103 115 147 195  59  87  91 123 131 139 143\n",
      "  95 195 367 367 243 271 215  75 119 175  47 311 163 255 367 263 307  47\n",
      " 307 227]\n",
      "[291 275 135 135 167  59  47 207  47  55 279 367 299 263 323 307 287 299\n",
      " 303 315 323 363 199 211 219 239 307 363 159 199 243 283 307 311 139 175\n",
      " 179 203 215 231 259 307  67  79 127 139 195 207 227 271 299 315 155 159\n",
      " 175 179 199 215 227  63  71  91 103 115 147 195  59  87  91 123 131 139\n",
      " 143  95  47 195 367 367 243 271 215  75 119 175  47 311 163 255 367 263\n",
      " 307  47 307 227]\n"
     ]
    }
   ],
   "source": [
    "numpts = x.size\n",
    "sample_inds = np.random.choice(numpts,size=2,replace=False)\n",
    "# print(sample_inds)\n",
    "# np.where(x != x[sample_inds])\n",
    "\n",
    "print(x[[i for i in range(x.size) if i not in sample_inds]])\n",
    "\n",
    "print(x)"
   ]
  },
  {
   "cell_type": "code",
   "execution_count": 16,
   "metadata": {},
   "outputs": [
    {
     "name": "stdout",
     "output_type": "stream",
     "text": [
      "[[291.  39.   1.]\n",
      " [275.  43.   1.]\n",
      " [135.  63.   1.]\n",
      " [135.  83.   1.]\n",
      " [167. 143.   1.]\n",
      " [ 59. 163.   1.]\n",
      " [ 47. 167.   1.]\n",
      " [207. 183.   1.]\n",
      " [ 47. 187.   1.]\n",
      " [ 55. 187.   1.]\n",
      " [279. 223.   1.]\n",
      " [367. 239.   1.]\n",
      " [299. 271.   1.]\n",
      " [263. 275.   1.]\n",
      " [323. 279.   1.]\n",
      " [307. 283.   1.]\n",
      " [287. 287.   1.]\n",
      " [299. 287.   1.]\n",
      " [303. 287.   1.]\n",
      " [315. 287.   1.]\n",
      " [323. 287.   1.]\n",
      " [363. 287.   1.]\n",
      " [199. 291.   1.]\n",
      " [211. 291.   1.]\n",
      " [219. 291.   1.]\n",
      " [239. 291.   1.]\n",
      " [307. 291.   1.]\n",
      " [363. 291.   1.]\n",
      " [159. 295.   1.]\n",
      " [199. 295.   1.]\n",
      " [243. 295.   1.]\n",
      " [283. 295.   1.]\n",
      " [307. 295.   1.]\n",
      " [311. 295.   1.]\n",
      " [139. 299.   1.]\n",
      " [175. 299.   1.]\n",
      " [179. 299.   1.]\n",
      " [203. 299.   1.]\n",
      " [215. 299.   1.]\n",
      " [231. 299.   1.]\n",
      " [259. 299.   1.]\n",
      " [307. 299.   1.]\n",
      " [ 67. 303.   1.]\n",
      " [ 79. 303.   1.]\n",
      " [127. 303.   1.]\n",
      " [139. 303.   1.]\n",
      " [195. 303.   1.]\n",
      " [207. 303.   1.]\n",
      " [227. 303.   1.]\n",
      " [271. 303.   1.]\n",
      " [299. 303.   1.]\n",
      " [315. 303.   1.]\n",
      " [155. 307.   1.]\n",
      " [159. 307.   1.]\n",
      " [175. 307.   1.]\n",
      " [179. 307.   1.]\n",
      " [199. 307.   1.]\n",
      " [215. 307.   1.]\n",
      " [227. 307.   1.]\n",
      " [ 63. 311.   1.]\n",
      " [ 71. 311.   1.]\n",
      " [ 91. 311.   1.]\n",
      " [103. 311.   1.]\n",
      " [115. 311.   1.]\n",
      " [147. 311.   1.]\n",
      " [195. 311.   1.]\n",
      " [ 59. 315.   1.]\n",
      " [ 87. 315.   1.]\n",
      " [ 91. 315.   1.]\n",
      " [123. 315.   1.]\n",
      " [131. 315.   1.]\n",
      " [139. 315.   1.]\n",
      " [143. 315.   1.]\n",
      " [ 95. 319.   1.]\n",
      " [ 47. 323.   1.]\n",
      " [195. 323.   1.]\n",
      " [367. 403.   1.]\n",
      " [367. 411.   1.]\n",
      " [243. 419.   1.]\n",
      " [271. 435.   1.]\n",
      " [215. 439.   1.]\n",
      " [ 75. 443.   1.]\n",
      " [119. 455.   1.]\n",
      " [175. 463.   1.]\n",
      " [ 47. 475.   1.]\n",
      " [311. 475.   1.]\n",
      " [163. 483.   1.]\n",
      " [255. 495.   1.]\n",
      " [367. 495.   1.]\n",
      " [263. 515.   1.]\n",
      " [307. 587.   1.]\n",
      " [ 47. 591.   1.]\n",
      " [307. 611.   1.]\n",
      " [227. 771.   1.]]\n"
     ]
    }
   ],
   "source": [
    "x0y01 = np.stack([x,y, np.ones(len(x))], axis=1)\n",
    "print(x0y01)"
   ]
  },
  {
   "cell_type": "code",
   "execution_count": 19,
   "metadata": {},
   "outputs": [
    {
     "data": {
      "text/plain": [
       "1"
      ]
     },
     "execution_count": 19,
     "metadata": {},
     "output_type": "execute_result"
    },
    {
     "data": {
      "image/png": "[encoded data removed]",
      "text/plain": [
       "<Figure size 1440x720 with 1 Axes>"
      ]
     },
     "metadata": {
      "needs_background": "light"
     },
     "output_type": "display_data"
    }
   ],
   "source": [
    "NUM_ITER = 100       # number of RANSAC iterations\n",
    "INLIER_THRESH = 20  # threshold distance for outliers \n",
    "\n",
    "# Initialize best consensus set (tuple of indices within x (and y))\n",
    "best_consensus_set = np.zeros((0,))\n",
    "\n",
    "# Number of data points\n",
    "numpts=x.size\n",
    "\n",
    "# Try many lines, and keep the consensus set of the best line\n",
    "for iter in range(NUM_ITER):\n",
    "    \n",
    "    # Randomly sample two points (note: option ensures points are distinct)\n",
    "    sample_inds = np.random.choice(numpts,size=2,replace=False)\n",
    "    xs = x[sample_inds]\n",
    "    ys = y[sample_inds]\n",
    "\n",
    "    # Make homogeneous, and determine line using cross product\n",
    "    p1 = np.array([xs[0], ys[0], 1], dtype=np.float32)\n",
    "    p2 = np.array([xs[1], ys[1], 1], dtype=np.float32)\n",
    "    line = np.cross(p1, p2)\n",
    "    \n",
    "    # Compute perpendicular distance from line to every datapoint,\n",
    "    #    storing results in vector `dist` of size = numpts\n",
    "\n",
    "    # YOUR CODE HERE #\n",
    "\n",
    "    A = line[0]\n",
    "    B = line[1]\n",
    "    \n",
    "    dist = np.abs(np.dot(x0y01, line.reshape(3,1))) / np.sqrt(A**2 + B**2)\n",
    "    # Find consensus set (tuple of indices within x (and y))\n",
    "    consensus_set = np.nonzero(dist < INLIER_THRESH)[0]\n",
    "\n",
    "    # If it is larger than the best one so far, keep it\n",
    "    if consensus_set.size < best_consensus_set.size:\n",
    "        continue\n",
    "    best_consensus_set = consensus_set\n",
    "\n",
    "# inliers for best line\n",
    "xc = x[best_consensus_set]\n",
    "yc = y[best_consensus_set]\n",
    "\n",
    "# fit final line to these inliers\n",
    "l=fitlineTLS(np.vstack((xc, yc)).T)\n",
    "\n",
    "# plot image, points, and line\n",
    "fig, ax = plt.subplots(figsize=(20,10))\n",
    "ax.imshow(img,cmap=\"gray\")\n",
    "ax.axis('off')\n",
    "\n",
    "plt.plot(x, y, 'y+')\n",
    "\n",
    "h,w=img.shape\n",
    "plotimageline(h,w,l,ax)"
   ]
  },
  {
   "cell_type": "code",
   "execution_count": null,
   "metadata": {},
   "outputs": [],
   "source": []
  }
 ],
 "metadata": {
  "kernelspec": {
   "display_name": "Python 3",
   "language": "python",
   "name": "python3"
  },
  "language_info": {
   "codemirror_mode": {
    "name": "ipython",
    "version": 3
   },
   "file_extension": ".py",
   "mimetype": "text/x-python",
   "name": "python",
   "nbconvert_exporter": "python",
   "pygments_lexer": "ipython3",
   "version": "3.8.5"
  }
 },
 "nbformat": 4,
 "nbformat_minor": 2
}
